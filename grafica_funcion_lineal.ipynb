{
  "nbformat": 4,
  "nbformat_minor": 0,
  "metadata": {
    "colab": {
      "provenance": [],
      "authorship_tag": "ABX9TyPgdVQmF5ihWfHZcjNWys6b",
      "include_colab_link": true
    },
    "kernelspec": {
      "name": "python3",
      "display_name": "Python 3"
    },
    "language_info": {
      "name": "python"
    }
  },
  "cells": [
    {
      "cell_type": "markdown",
      "metadata": {
        "id": "view-in-github",
        "colab_type": "text"
      },
      "source": [
        "<a href=\"https://colab.research.google.com/github/ivanrueda1/graficas_python/blob/main/grafica_funcion_lineal.ipynb\" target=\"_parent\"><img src=\"https://colab.research.google.com/assets/colab-badge.svg\" alt=\"Open In Colab\"/></a>"
      ]
    },
    {
      "cell_type": "markdown",
      "source": [
        "## Grafica de una funcion lineal"
      ],
      "metadata": {
        "id": "ucnWA4YKfHMC"
      }
    },
    {
      "cell_type": "code",
      "source": [
        "# importamos las librerias numpy y matplotlib y le asignamos un alias\n",
        "\n",
        "import numpy as np\n",
        "import matplotlib.pyplot as plt"
      ],
      "metadata": {
        "id": "KVvL6plvfNO8"
      },
      "execution_count": null,
      "outputs": []
    },
    {
      "cell_type": "code",
      "source": [
        "# Programa para graficar una linea recta, con base en la ecuación y = mx +b\n",
        "# m es la pendiente de la recta\n",
        "# b es el punto de corte con el eje y\n",
        "\n",
        "# numero de puntos a graficar\n",
        "N = 100\n",
        "\n",
        "# Funcion para calcular los valores de y\n",
        "def f(m,x,b):\n",
        "  return m*x + b\n",
        "  \n",
        "  # input\n",
        "  print(\"---------------------------\")\n",
        "  print(\"-----FUNCION LINEAL--------\")\n",
        "  print(\"------y = mx + b-----------\")\n",
        "  print(\"---------------------------\")\n",
        "\n",
        "m = int(input(\"Digite el valor de la pendiente: \"))\n",
        "b = int(input(\"Digite el valor de punto de corte con el eje y: \"))\n",
        "\n",
        "# processing\n",
        "x = np.linspace(-10, 10, num = N)\n",
        "y = f(m,x,b)\n",
        "\n",
        "plt.plot(x,y, color = 'r')\n",
        "plt.xlabel('x')\n",
        "plt.ylabel('y')\n",
        "plt.title('Funcion Lineal')\n",
        "plt.grid\n",
        "plt.axhline(y=0, color='b')\n",
        "plt.axvline(x=0, color='b')\n",
        "plt.show()\n",
        "plt.savefig('funcion_lineal.png')\n",
        "\n",
        "\n"
      ],
      "metadata": {
        "colab": {
          "base_uri": "https://localhost:8080/",
          "height": 347
        },
        "id": "AdnaG0qCfeIQ",
        "outputId": "ae7634c7-26ce-41f0-8d32-980135b08d86"
      },
      "execution_count": null,
      "outputs": [
        {
          "name": "stdout",
          "output_type": "stream",
          "text": [
            "Digite el valor de la pendiente: 1\n",
            "Digite el valor de punto de corte con el eje y: 0\n"
          ]
        },
        {
          "output_type": "display_data",
          "data": {
            "text/plain": [
              "<Figure size 432x288 with 1 Axes>"
            ],
            "image/png": "[encoded data removed]"
          },
          "metadata": {
            "needs_background": "light"
          }
        },
        {
          "output_type": "display_data",
          "data": {
            "text/plain": [
              "<Figure size 432x288 with 0 Axes>"
            ]
          },
          "metadata": {}
        }
      ]
    }
  ]
}